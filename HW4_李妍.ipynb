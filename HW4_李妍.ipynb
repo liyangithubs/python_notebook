{
 "cells": [
  {
   "cell_type": "markdown",
   "metadata": {},
   "source": [
    "HW 1:How can you remove duplicate values in a dataset in Python?"
   ]
  },
  {
   "cell_type": "code",
   "execution_count": 1,
   "metadata": {},
   "outputs": [],
   "source": [
    "import numpy as np"
   ]
  },
  {
   "cell_type": "code",
   "execution_count": 2,
   "metadata": {},
   "outputs": [],
   "source": [
    "t=[1,2,3,4,4,5,6]"
   ]
  },
  {
   "cell_type": "code",
   "execution_count": 3,
   "metadata": {},
   "outputs": [
    {
     "data": {
      "text/plain": [
       "[1, 2, 3, 4, 5, 6]"
      ]
     },
     "execution_count": 3,
     "metadata": {},
     "output_type": "execute_result"
    }
   ],
   "source": [
    "np.unique(t).tolist()"
   ]
  },
  {
   "cell_type": "code",
   "execution_count": 6,
   "metadata": {},
   "outputs": [
    {
     "data": {
      "text/plain": [
       "[1, 2, 3, 4, 5, 6]"
      ]
     },
     "execution_count": 6,
     "metadata": {},
     "output_type": "execute_result"
    }
   ],
   "source": [
    "a=[]\n",
    "for i in t:\n",
    "    if i not in a:\n",
    "        a.append(i)\n",
    "a"
   ]
  },
  {
   "cell_type": "markdown",
   "metadata": {},
   "source": [
    "HW 2"
   ]
  },
  {
   "cell_type": "markdown",
   "metadata": {},
   "source": [
    "Assumption: The time period of friend_request and request_accepted is the same."
   ]
  },
  {
   "cell_type": "markdown",
   "metadata": {},
   "source": [
    "SQL:\n",
    "SELECT r.time,COUNT(1) AS request_num INTO temp_requst\n",
    "FROM friend_request f\n",
    "LEFT JOIN request_accepted r\n",
    "ON f.requester_id=r.requestor_id\n",
    "AND f.sent_to_id=r.acceptor_id\n",
    "GROUP BY f.requester_id;\n",
    "\n",
    "SELECT COUNT(*) AS accept_num\n",
    "FROM temp_requst\n",
    "WHERE time IS NULL\n",
    "GROUP BY requester_id;\n",
    "\n",
    "acceptance rate=accept_num/request_num\n"
   ]
  },
  {
   "cell_type": "markdown",
   "metadata": {},
   "source": [
    "Python:\n",
    "import pandas as pd\n",
    "request_accept=pd.merge(friend_requestm,request_accepted,how='left',left_on=['requester_id','sent_to_id'],right_on=['requester_id','acceptor_id']\n",
    "len(request_accept.columns)/request_accept.isnull().sum()\n"
   ]
  },
  {
   "cell_type": "markdown",
   "metadata": {},
   "source": [
    "HW 3"
   ]
  },
  {
   "cell_type": "code",
   "execution_count": 6,
   "metadata": {},
   "outputs": [],
   "source": [
    "cc=['4175004175004172','4917491749174917','346416800707698','376416800707698',\n",
    "    '37641680070769832112','36641680070769','54545641680070769']"
   ]
  },
  {
   "cell_type": "code",
   "execution_count": 27,
   "metadata": {},
   "outputs": [
    {
     "name": "stdout",
     "output_type": "stream",
     "text": [
      "4175004175004172:VISAELECTRON\n",
      "4917491749174917:VISAELECTRON\n",
      "346416800707698:AMEX\n",
      "376416800707698:AMEX\n",
      "37641680070769832112:Invalid Number\n",
      "36641680070769:Diners Club\n",
      "54545641680070769:Invalid Number\n"
     ]
    }
   ],
   "source": [
    "for i in range(0,len(cc)):\n",
    "    if (cc[i][0:2]=='34' or cc[i][0:2]=='37') and (len(cc[i])==15):\n",
    "        print (cc[i]+\":\"+\"AMEX\")\n",
    "    elif (cc[i][0:2]=='36') and (len(cc[i])==14):\n",
    "        print (cc[i]+\":\"+\"Diners Club\")\n",
    "    elif (cc[i][0:4] in ['4026','4405','4508','4844','4913','4917'] or cc[i][0:6]=='417500') and (len(cc[i])==16):\n",
    "        print (cc[i]+\":\"+\"VISAELECTRON\")\n",
    "    elif (cc[i][0:1]=='4') and (len(cc[i])==16):\n",
    "        print (cc[i]+\":\"+\"VISA\")\n",
    "    else:\n",
    "        print (cc[i]+\":\"+\"Invalid Number\")\n",
    "    \n",
    "    "
   ]
  },
  {
   "cell_type": "code",
   "execution_count": null,
   "metadata": {},
   "outputs": [],
   "source": []
  }
 ],
 "metadata": {
  "kernelspec": {
   "display_name": "Python 3",
   "language": "python",
   "name": "python3"
  },
  "language_info": {
   "codemirror_mode": {
    "name": "ipython",
    "version": 3
   },
   "file_extension": ".py",
   "mimetype": "text/x-python",
   "name": "python",
   "nbconvert_exporter": "python",
   "pygments_lexer": "ipython3",
   "version": "3.6.4"
  }
 },
 "nbformat": 4,
 "nbformat_minor": 2
}
